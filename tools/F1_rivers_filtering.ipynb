{
 "cells": [
  {
   "cell_type": "code",
   "execution_count": null,
   "id": "4ac45d30",
   "metadata": {},
   "outputs": [],
   "source": [
    "import geopandas as gpd\n",
    "import fiona\n",
    "\n",
    "# Path to the GeoPackage\n",
    "gpkg_path = r\"p:\\11211992-tki-mangrove-restoration\\01_data\\rivers_lin2019\\rivers_ge30m.gpkg\"\n",
    "\n",
    "# 1. List layers to verify (optional)\n",
    "layers = fiona.listlayers(gpkg_path)\n",
    "print(\"Available layers:\", layers)\n",
    "\n",
    "# Assuming there's only one layer\n",
    "layer_name = layers[0]\n",
    "\n",
    "# 2. Read the GeoPackage\n",
    "gdf = gpd.read_file(gpkg_path, layer=layer_name)\n",
    "\n",
    "# 3. Filter geometries with QMEAN > 1000\n",
    "filtered_gdf = gdf[gdf[\"QMEAN\"] > 1000]\n",
    "\n",
    "print(f\"Total features: {len(gdf)}\")\n",
    "print(f\"Features with QMEAN > 1000: {len(filtered_gdf)}\")\n",
    "\n",
    "# Optional: preview\n",
    "print(filtered_gdf.head())\n",
    "\n",
    "# Optional: save filtered features\n",
    "filtered_gdf.to_file(r\"p:\\11211992-tki-mangrove-restoration\\01_data\\rivers_lin2019\\1000QMEAN_rivers.geojson\", driver=\"GeoJSON\")\n"
   ]
  }
 ],
 "metadata": {
  "kernelspec": {
   "display_name": "solara-dashboard",
   "language": "python",
   "name": "python3"
  },
  "language_info": {
   "codemirror_mode": {
    "name": "ipython",
    "version": 3
   },
   "file_extension": ".py",
   "mimetype": "text/x-python",
   "name": "python",
   "nbconvert_exporter": "python",
   "pygments_lexer": "ipython3",
   "version": "3.13.0"
  }
 },
 "nbformat": 4,
 "nbformat_minor": 5
}
